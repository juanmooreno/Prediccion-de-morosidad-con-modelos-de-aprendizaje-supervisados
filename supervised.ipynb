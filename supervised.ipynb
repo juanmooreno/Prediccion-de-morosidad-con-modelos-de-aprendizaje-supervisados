{
 "cells": [
  {
   "cell_type": "markdown",
   "id": "73b627d5-4620-4174-a448-c8479a97fe28",
   "metadata": {},
   "source": [
    "## Cargamos los datasets y dividimos en train y test"
   ]
  },
  {
   "cell_type": "code",
   "execution_count": 3,
   "id": "878a82ec-eb5c-45d1-8a60-d9589deda998",
   "metadata": {},
   "outputs": [
    {
     "name": "stdout",
     "output_type": "stream",
     "text": [
      "Tamaño de X_train: (69203, 34)\n",
      "Tamaño de X_test: (17301, 34)\n",
      "Tamaño de y_train: (69203,)\n",
      "Tamaño de y_test: (17301,)\n"
     ]
    }
   ],
   "source": [
    "import pandas as pd\n",
    "from sklearn.model_selection import train_test_split\n",
    "\n",
    "# Cargamos los datasets\n",
    "df_X = pd.read_csv(\"processed_dataset.csv\")\n",
    "df_y = pd.read_csv(\"train_labels.csv\")\n",
    "\n",
    "# Los juntamos de forma inner para que no haya Nan\n",
    "df = pd.merge(df_X, df_y, how = \"inner\", on = \"ID\")\n",
    "\n",
    "# Ya no necesitamos la columna ID\n",
    "df.drop([\"ID\"], axis = \"columns\", inplace = True)\n",
    "\n",
    "# Dividimos en X e y\n",
    "df_train_y = df[\"label\"]\n",
    "df_train_X = df.drop([\"label\"], axis = \"columns\")\n",
    "\n",
    "# Hacemos una primera división en train (80% de los datos) y test (20%) sets\n",
    "X_train_big, X_test_big, y_train_big, y_test_big = train_test_split(df_train_X, df_train_y, train_size=0.8, random_state=42)\n",
    "\n",
    "# Dividimos este subset en 32% para entrenamiento y 8% para prueba. Para el Grid Search del KNN y el modelo final de SVC.\n",
    "X_train, X_test, y_train, y_test = train_test_split(X_train_big, y_train_big, train_size=0.32, test_size=0.08, random_state=42)\n",
    "\n",
    "# Vemos las dimensiones de entrenamiento y test\n",
    "print(\"Tamaño de X_train:\", X_train.shape)\n",
    "print(\"Tamaño de X_test:\", X_test.shape)\n",
    "print(\"Tamaño de y_train:\", y_train.shape)\n",
    "print(\"Tamaño de y_test:\", y_test.shape)"
   ]
  },
  {
   "cell_type": "code",
   "execution_count": 4,
   "id": "2795609d-8832-4479-9bc8-f6a20c00c2d4",
   "metadata": {},
   "outputs": [
    {
     "data": {
      "text/plain": [
       "Index(['ID', 'Payment_6804_mean', 'Payment_6804_std', 'Infraction_CGP_mean',\n",
       "       'Infraction_CGP_std', 'Base_7744_mean', 'Base_7744_std',\n",
       "       'Base_80863_mean', 'Base_80863_std', 'Risk_1930_mean', 'Risk_1930_std',\n",
       "       'Expenditure_JIG_mean', 'Expenditure_JIG_std', 'Infraction_SNZ_mean',\n",
       "       'Infraction_SNZ_std', 'Base_02683_mean', 'Base_02683_std',\n",
       "       'Infraction_SBF_mean', 'Infraction_SBF_std', 'Infraction_ZWWJ_mean',\n",
       "       'Infraction_ZWWJ_std', 'Infraction_QJJF_mean', 'Infraction_QJJF_std',\n",
       "       'Base_76065_mean', 'Base_76065_std', 'Infraction_EJZ_mean',\n",
       "       'Infraction_EJZ_std', 'Base_6872_mean', 'Base_6872_std',\n",
       "       'Risk_0322_mean', 'Risk_0322_std', 'Infraction_FMXQ_mean',\n",
       "       'Infraction_FMXQ_std', 'Infraction_GGO_mean', 'Infraction_GGO_std'],\n",
       "      dtype='object')"
      ]
     },
     "execution_count": 4,
     "metadata": {},
     "output_type": "execute_result"
    }
   ],
   "source": [
    "df_X.columns"
   ]
  },
  {
   "cell_type": "code",
   "execution_count": 5,
   "id": "6c285341-05ae-47d1-b2df-cda2d1ecbb24",
   "metadata": {},
   "outputs": [
    {
     "name": "stdout",
     "output_type": "stream",
     "text": [
      "Tamaño de X_train_red: (27680, 34)\n",
      "Tamaño de X_test_red: (6921, 34)\n",
      "Tamaño de y_train_red: (27680,)\n",
      "Tamaño de y_test_red: (6921,)\n"
     ]
    }
   ],
   "source": [
    "# Vamos a reducir todavía más los conjuntos de train y test para hacer grid search del SVC ya que este es muy costoso\n",
    "# y tarda más en entrenar en base a los distintos hiperparámetros\n",
    "from sklearn.model_selection import train_test_split\n",
    "\n",
    "# Sacamos el 50% del dataset anterior\n",
    "df_X_reduced2, _, y_reduced2, _ = train_test_split(X_train, y_train, train_size=0.50, random_state=42)\n",
    "\n",
    "# Dividimos este subset en 80% para entrenamiento y 20% para prueba\n",
    "X_train_red, X_test_red, y_train_red, y_test_red = train_test_split(df_X_reduced2, y_reduced2, train_size=0.8, test_size=0.20,\n",
    "                                                                    random_state=42)\n",
    "\n",
    "# Vemos las dimensiones de entrenamiento y test\n",
    "print(\"Tamaño de X_train_red:\", X_train_red.shape)\n",
    "print(\"Tamaño de X_test_red:\", X_test_red.shape)\n",
    "print(\"Tamaño de y_train_red:\", y_train_red.shape)\n",
    "print(\"Tamaño de y_test_red:\", y_test_red.shape)"
   ]
  },
  {
   "cell_type": "markdown",
   "id": "999b924b-06d9-45f2-9f78-fde6abeb08d4",
   "metadata": {},
   "source": [
    "# 2. Aplicación de modelos de aprendizaje supervisado"
   ]
  },
  {
   "cell_type": "markdown",
   "id": "e25ae784-15ee-4bb8-974c-311d2cccc628",
   "metadata": {},
   "source": [
    "Este apartado incluye realizar un estudio detallado de técnicas de clasificación supervisada,\r\n",
    "incluyendo los siguientes modelos:"
   ]
  },
  {
   "cell_type": "markdown",
   "id": "ac1701d5-53ce-4c54-ab54-14b0369578e5",
   "metadata": {},
   "source": [
    "## Métodos clásicos: Lineal, Polinomial, Logística"
   ]
  },
  {
   "cell_type": "code",
   "execution_count": 9,
   "id": "286c09db-e808-4f86-a832-f6b5b50506ea",
   "metadata": {},
   "outputs": [
    {
     "name": "stdout",
     "output_type": "stream",
     "text": [
      "Accuracy: 0.8847683344122815\n",
      "F1 Score: 0.8833800486180842\n",
      "Tiempo transcurrido: 0.29244422912597656 segundos\n"
     ]
    }
   ],
   "source": [
    "# Modelo Lineal\n",
    "import pandas as pd\n",
    "from sklearn.linear_model import LinearRegression\n",
    "from sklearn.preprocessing import LabelEncoder\n",
    "from sklearn.metrics import accuracy_score, f1_score\n",
    "import numpy as np\n",
    "from sklearn.metrics import classification_report\n",
    "import time\n",
    "\n",
    "# En todos los modelos, vamos a ver cuánto tardan en entrenar\n",
    "start_time = time.time()\n",
    "\n",
    "# Creamos el modelo de regresión lineal\n",
    "model = LinearRegression()\n",
    "\n",
    "# Entrenamos el modelo\n",
    "model.fit(X_train_big, y_train_big)\n",
    "\n",
    "y_pred = model.predict(X_test_big)      # Hacemos predicciones con el conjunto de prueba\n",
    "\n",
    "# Redondeamos las predicciones para convertirlas en clases (0 o 1)\n",
    "y_pred_class = np.round(y_pred).astype(int)\n",
    "\n",
    "# Accuracy\n",
    "accuracy = accuracy_score(y_test_big, y_pred_class)\n",
    "print(f\"Accuracy: {accuracy}\")\n",
    "\n",
    "# F1-score\n",
    "f1 = f1_score(y_test_big, y_pred_class, average='weighted') \n",
    "print(f\"F1 Score: {f1}\")\n",
    "\n",
    "end_time = time.time()\n",
    "# Calculamos el tiempo transcurrido\n",
    "elapsed_time = end_time - start_time\n",
    "print(f\"Tiempo transcurrido: {elapsed_time} segundos\")"
   ]
  },
  {
   "cell_type": "markdown",
   "id": "4b98bbc6-0d2f-4e2d-b153-163f15e8303c",
   "metadata": {},
   "source": [
    "Como es de esperar, obtenemos valores de accuracy y f1 no muy altos, aunque en verdad bastante para lo que es el modelo, ya que un modelo lineal es un modelo demasiado simple para todas las características que tenemos."
   ]
  },
  {
   "cell_type": "code",
   "execution_count": 11,
   "id": "f870c675-6e5f-44d3-9017-942aa46b8bdc",
   "metadata": {},
   "outputs": [
    {
     "name": "stdout",
     "output_type": "stream",
     "text": [
      "Accuracy: 0.9104411356700268\n",
      "F1 Score: 0.9102448793540651\n",
      "Tiempo transcurrido: 10.45392894744873 segundos\n"
     ]
    }
   ],
   "source": [
    "# Modelo polinomial de grado 2\n",
    "from sklearn.pipeline import Pipeline\n",
    "from sklearn.preprocessing import PolynomialFeatures\n",
    "\n",
    "start_time = time.time()\n",
    "\n",
    "# Creamos un pipeline con las transformaciones y el modelo (así se entrenan los datos con ambos modelos secuencialmente)\n",
    "pipeline = Pipeline([\n",
    "    ('poly', PolynomialFeatures(degree=2)),  # Modelo polinomial de grado 2\n",
    "    ('model', LinearRegression())  # Modelo de regresión lineal\n",
    "])\n",
    "\n",
    "# Entrenamos el pipeline\n",
    "pipeline.fit(X_train_big, y_train_big)\n",
    "\n",
    "# Hacemos predicciones con el conjunto de prueba\n",
    "y_pred = pipeline.predict(X_test_big)\n",
    "\n",
    "# Redondeamos las predicciones para convertirlas en clases (0 o 1)\n",
    "y_pred_class = np.round(y_pred).astype(int)\n",
    "\n",
    "# Accuracy\n",
    "accuracy = accuracy_score(y_test_big, y_pred_class)\n",
    "print(f\"Accuracy: {accuracy}\")\n",
    "\n",
    "# F1-score\n",
    "f1 = f1_score(y_test_big, y_pred_class, average='weighted')\n",
    "print(f\"F1 Score: {f1}\")\n",
    "\n",
    "end_time = time.time()\n",
    "elapsed_time = end_time - start_time\n",
    "print(f\"Tiempo transcurrido: {elapsed_time} segundos\")"
   ]
  },
  {
   "cell_type": "markdown",
   "id": "795179bb-8d51-41c3-8742-e836f52ba4a8",
   "metadata": {},
   "source": [
    "Era de esperar que el modelo polinomial predijese mejor que el lineal."
   ]
  },
  {
   "cell_type": "code",
   "execution_count": 13,
   "id": "7458abbe-6a63-4e5a-b7d0-0c879b0cc2b4",
   "metadata": {},
   "outputs": [
    {
     "name": "stdout",
     "output_type": "stream",
     "text": [
      "Accuracy: 0.8887080366225839\n",
      "F1 Score: 0.8877869971582988\n",
      "              precision    recall  f1-score   support\n",
      "\n",
      "           0       0.92      0.93      0.93     39773\n",
      "           1       0.80      0.76      0.78     14292\n",
      "\n",
      "    accuracy                           0.89     54065\n",
      "   macro avg       0.86      0.85      0.85     54065\n",
      "weighted avg       0.89      0.89      0.89     54065\n",
      "\n",
      "Tiempo transcurrido: 0.6068494319915771 segundos\n"
     ]
    }
   ],
   "source": [
    "# Modelo logístico\n",
    "from sklearn.linear_model import LogisticRegression\n",
    "\n",
    "start_time = time.time()\n",
    "\n",
    "# Creamos el modelo de regresión logística\n",
    "logistic_model = LogisticRegression()\n",
    "\n",
    "# Entrenamos el modelo\n",
    "logistic_model.fit(X_train_big, y_train_big)\n",
    "\n",
    "# Hacemso predicciones, en este caso la salida será 0 o 1\n",
    "y_pred = logistic_model.predict(X_test_big)\n",
    "\n",
    "# Accuracy\n",
    "accuracy = accuracy_score(y_test_big, y_pred)\n",
    "print(f\"Accuracy: {accuracy}\")\n",
    "\n",
    "# F1-score\n",
    "f1 = f1_score(y_test_big, y_pred, average='weighted')\n",
    "print(f\"F1 Score: {f1}\")\n",
    "\n",
    "# Mostramos el classification report\n",
    "print(classification_report(y_test_big, y_pred))\n",
    "\n",
    "end_time = time.time()\n",
    "elapsed_time = end_time - start_time\n",
    "print(f\"Tiempo transcurrido: {elapsed_time} segundos\")"
   ]
  },
  {
   "cell_type": "markdown",
   "id": "bf623dd3-cfe5-414d-9b06-313e7ef2619c",
   "metadata": {},
   "source": [
    "## Árboles de decisión"
   ]
  },
  {
   "cell_type": "markdown",
   "id": "26071d19-5afd-49f5-ac1e-741a416a6321",
   "metadata": {},
   "source": [
    "Utilizaremos un Random Forest Classifier ya que esto es un problema de clasificación. No tiene sentido probar con DecisionTreeClassifier o ExtraTreeClassifier porque queremos capturar las relaciones complejas entre nuestro conjunto de datos que es muy grande, y estos modelo son más débiles."
   ]
  },
  {
   "cell_type": "code",
   "execution_count": 16,
   "id": "3db4ae43-5d16-4b7f-a31f-4981e0403808",
   "metadata": {},
   "outputs": [
    {
     "name": "stdout",
     "output_type": "stream",
     "text": [
      "Accuracy: 0.9441413113844447\n",
      "F1 Score: 0.9438025285591432\n",
      "              precision    recall  f1-score   support\n",
      "\n",
      "           0       0.96      0.97      0.96     39773\n",
      "           1       0.91      0.88      0.89     14292\n",
      "\n",
      "    accuracy                           0.94     54065\n",
      "   macro avg       0.93      0.92      0.93     54065\n",
      "weighted avg       0.94      0.94      0.94     54065\n",
      "\n",
      "Tiempo transcurrido: 2.5616464694341023 minutos\n"
     ]
    }
   ],
   "source": [
    "from sklearn.ensemble import RandomForestClassifier\n",
    "\n",
    "start_time = time.time()\n",
    "\n",
    "# Instanciamos el modelo con 100 árboles\n",
    "modelo = RandomForestClassifier(n_estimators=90, random_state=42)\n",
    "\n",
    "# Entrenamos el modelo\n",
    "modelo.fit(X_train_big, y_train_big)\n",
    "\n",
    "# Hacemos predicciones en el conjunto de prueba\n",
    "y_pred = modelo.predict(X_test_big)\n",
    "\n",
    "# Accuracy\n",
    "accuracy = accuracy_score(y_test_big, y_pred)\n",
    "print(f\"Accuracy: {accuracy}\")\n",
    "\n",
    "# F1-score\n",
    "f1 = f1_score(y_test_big, y_pred, average='weighted')\n",
    "print(f\"F1 Score: {f1}\")\n",
    "\n",
    "# Mostramos el classification report\n",
    "print(classification_report(y_test_big, y_pred))\n",
    "\n",
    "end_time = time.time()\n",
    "elapsed_time = end_time - start_time\n",
    "print(f\"Tiempo transcurrido: {elapsed_time/60} minutos\")"
   ]
  },
  {
   "cell_type": "markdown",
   "id": "be42d7fe-a6a4-40d7-851d-f088507194dc",
   "metadata": {},
   "source": [
    "Vamos a guardar este modelo, al ser el que mejores resultados ofrece de todos, para usar en best_models"
   ]
  },
  {
   "cell_type": "code",
   "execution_count": 18,
   "id": "24288b1c-aaa0-4385-bbf3-82a96b6292a9",
   "metadata": {},
   "outputs": [],
   "source": [
    "import pickle \n",
    "\n",
    "# Guardamos el modelo en un archivo\n",
    "with open('modelo_randomforest.pkl', 'wb') as file:\n",
    "    pickle.dump(modelo, file)"
   ]
  },
  {
   "cell_type": "markdown",
   "id": "dfe79c13-dde2-4db1-ba95-aebb7e46905c",
   "metadata": {},
   "source": [
    "## Aprendizaje basado en instancias"
   ]
  },
  {
   "cell_type": "markdown",
   "id": "94c48451-91e3-4daa-965f-29f0210ac72f",
   "metadata": {},
   "source": [
    "Vamos a utilizar el modelo KNN (basado en instancias), que no aprende parámetros.  \n",
    "Para ello vamos a hacer un Grid Search para encontrar los valores que maximizan el f1-score en función de los hiperparámetros \"n_neighbors\" que hace referencia al número de vecinos que se fija para la clasificación, y \"weights\" que es el tipo de pesos que se asigna, puede ser uniforme, es decir la misma importancia a todos los n_neighbors, o según la distancia, que da más importancia en la decisión a los vecinos más cercanos."
   ]
  },
  {
   "cell_type": "markdown",
   "id": "ab797672-0835-44e4-bc15-6c94e2d13aad",
   "metadata": {},
   "source": [
    "No utilizamos conjunto de validación ya que el grid search utiliza validación cruzada dividiendo el conjunto de entrenamiento en varios plieges (cv=5). Así, cada combinación de hiperparámetros se entrena y valida en los diferentes subconjuntos de datos, obteniendo el promedio de las métricas de cada pliegue para evaluar el rendimiento."
   ]
  },
  {
   "cell_type": "code",
   "execution_count": 22,
   "id": "dad25036-5b9b-4469-93d5-763e2c36164e",
   "metadata": {},
   "outputs": [
    {
     "name": "stdout",
     "output_type": "stream",
     "text": [
      "                                       params  mean_test_score  \\\n",
      "0   {'n_neighbors': 3, 'weights': 'distance'}         0.881380   \n",
      "1    {'n_neighbors': 3, 'weights': 'uniform'}         0.881386   \n",
      "2   {'n_neighbors': 6, 'weights': 'distance'}         0.887225   \n",
      "3    {'n_neighbors': 6, 'weights': 'uniform'}         0.885691   \n",
      "4   {'n_neighbors': 9, 'weights': 'distance'}         0.890643   \n",
      "5    {'n_neighbors': 9, 'weights': 'uniform'}         0.890693   \n",
      "6  {'n_neighbors': 12, 'weights': 'distance'}         0.891454   \n",
      "7   {'n_neighbors': 12, 'weights': 'uniform'}         0.889906   \n",
      "8  {'n_neighbors': 15, 'weights': 'distance'}         0.891835   \n",
      "9   {'n_neighbors': 15, 'weights': 'uniform'}         0.891943   \n",
      "\n",
      "   rank_test_score  \n",
      "0               10  \n",
      "1                9  \n",
      "2                7  \n",
      "3                8  \n",
      "4                5  \n",
      "5                4  \n",
      "6                3  \n",
      "7                6  \n",
      "8                2  \n",
      "9                1  \n",
      "Mejor valor de n_neighbors: 15\n",
      "Mejor valor de weights: uniform\n",
      "Mejor F1-score obtenido: 0.8919425079123373\n",
      "Tiempo transcurrido: 8.060222665468851 minutos\n"
     ]
    }
   ],
   "source": [
    "from sklearn.model_selection import GridSearchCV\n",
    "from sklearn.neighbors import KNeighborsClassifier\n",
    "from sklearn.metrics import make_scorer, f1_score\n",
    "\n",
    "start_time = time.time()\n",
    "\n",
    "# Creamos el modelo KNN\n",
    "knn_model = KNeighborsClassifier()\n",
    "\n",
    "# Definimos el rango de valores para n_neighbors\n",
    "param_grid = {\n",
    "    'n_neighbors': list(range(3, 16, 3)),  # Valores de 3, 6, 9, 12, 15\n",
    "    'weights': [\"distance\", \"uniform\"]\n",
    "}\n",
    "\n",
    "# Scoring F1\n",
    "scorer = make_scorer(f1_score, average='weighted')\n",
    "\n",
    "# Configuramos el GridSearchCV\n",
    "grid_search = GridSearchCV(estimator=knn_model, param_grid=param_grid, scoring=scorer, cv=5,\n",
    "                          return_train_score=True)                            # cv=5 para validación cruzada de 5 pliegues\n",
    "\n",
    "# Entrenamos el modelo en los datos de entrenamiento\n",
    "grid_search.fit(X_train, y_train)\n",
    "\n",
    "results = pd.DataFrame(grid_search.cv_results_)\n",
    "\n",
    "# Extraemos las columnas que nos interesan: parámetros, mean_test_score y rank_test_score\n",
    "f1_scores = results[['params', 'mean_test_score', 'rank_test_score']]\n",
    "\n",
    "print(f1_scores)\n",
    "\n",
    "# Nos queamos con el mejor valor de n_neighbors y el score correspondiente\n",
    "print(f\"Mejor valor de n_neighbors: {grid_search.best_params_['n_neighbors']}\")\n",
    "print(f\"Mejor valor de weights: {grid_search.best_params_['weights']}\")\n",
    "print(f\"Mejor F1-score obtenido: {grid_search.best_score_}\")\n",
    "\n",
    "end_time = time.time()\n",
    "elapsed_time = end_time - start_time\n",
    "print(f\"Tiempo transcurrido: {elapsed_time/60} minutos\")"
   ]
  },
  {
   "cell_type": "markdown",
   "id": "76f90dc5-ef64-47c8-a044-b7a4f7efab74",
   "metadata": {},
   "source": [
    "Como podemos ver, el F1 de usar weights = distance o uniforme, no varía prácticamente nada , pero vemos que cuantos más vecinos escogemos, mejor puntuación F1 obtenemos, como era de esperar ya que así tenemos más datos de referencia para hacer la clasificación aunque pasado cierto número de vecinos, ya no mejora el modelo."
   ]
  },
  {
   "cell_type": "markdown",
   "id": "2a9cc613-6e0c-4e79-887a-90fea0935a7d",
   "metadata": {},
   "source": [
    "Una vez ya tenemos escogidos nuestros hiperparámetros, n_neighbors = 15 y weights = \"distance\", vamos a entrenar con más datos nuestro modelo KNN"
   ]
  },
  {
   "cell_type": "code",
   "execution_count": 25,
   "id": "6f675a4d-be58-49f6-ad52-ce92db94dc9c",
   "metadata": {},
   "outputs": [
    {
     "name": "stdout",
     "output_type": "stream",
     "text": [
      "Accuracy: 0.8943308979931563\n",
      "F1 Score: 0.8947964092439439\n",
      "              precision    recall  f1-score   support\n",
      "\n",
      "           0       0.93      0.92      0.93     39773\n",
      "           1       0.79      0.81      0.80     14292\n",
      "\n",
      "    accuracy                           0.89     54065\n",
      "   macro avg       0.86      0.87      0.87     54065\n",
      "weighted avg       0.90      0.89      0.89     54065\n",
      "\n",
      "Tiempo transcurrido: 14.810671329498291 segundos\n"
     ]
    }
   ],
   "source": [
    "start_time = time.time()\n",
    "\n",
    "# Creamos el modelo KNN\n",
    "knn_model = KNeighborsClassifier(n_neighbors = 15, weights = \"distance\")\n",
    "\n",
    "# Entrenamos el modelo\n",
    "knn_model.fit(X_train_big, y_train_big)\n",
    "\n",
    "# Hacemos predicciones en el conjunto de prueba\n",
    "y_pred = knn_model.predict(X_test_big)\n",
    "\n",
    "# Accuracy\n",
    "accuracy = accuracy_score(y_test_big, y_pred)\n",
    "print(f\"Accuracy: {accuracy}\")\n",
    "\n",
    "# F1-score\n",
    "f1 = f1_score(y_test_big, y_pred, average='weighted')\n",
    "print(f\"F1 Score: {f1}\")\n",
    "\n",
    "# Mostramos el classification report\n",
    "print(classification_report(y_test_big, y_pred))\n",
    "\n",
    "end_time = time.time()\n",
    "elapsed_time = end_time - start_time\n",
    "print(f\"Tiempo transcurrido: {elapsed_time} segundos\")"
   ]
  },
  {
   "cell_type": "markdown",
   "id": "f684f32e-3b8a-476b-a563-9fd4535a23ca",
   "metadata": {},
   "source": [
    "## Máquinas de Soporte Vectorial"
   ]
  },
  {
   "cell_type": "markdown",
   "id": "e3d0fc75-b9ff-4488-8716-31bd251ce9a7",
   "metadata": {},
   "source": [
    "Usaremos la SVM con norma 2 (no lineal) ya que son datos que están en varias dimensiones.  \n",
    "Para ello vamos a hacer un Grid Search para encontrar los mejores hiperparámetros \"kernel\" que es el tipo de núcleo que utiliza la SVM para afrontar problemas no lineales y \"C\" que es la penalización."
   ]
  },
  {
   "cell_type": "markdown",
   "id": "ae6f3dbb-2505-4085-954f-ed46232248e7",
   "metadata": {},
   "source": [
    "El hiperparámetro gamma, controla la influencia de un punto de entrenamiento en la clasificación. Lo pondremos con la opción \"scale\", que lo ajusta dinámicamente para que la influencia de cada punto sea más equilibrada. Así reducimos el riesgo de sobreajuste o subajuste."
   ]
  },
  {
   "cell_type": "markdown",
   "id": "8bf45160-381b-499a-bdc8-ff24f2e1f8d8",
   "metadata": {},
   "source": [
    "Al igual que en el anterior Grid Search, no utilizamos conjunto de validación ya que aplicamos validación cruzada en 5 pliegues."
   ]
  },
  {
   "cell_type": "code",
   "execution_count": 30,
   "id": "41f20b00-5b21-4306-9279-a34418b6c29c",
   "metadata": {},
   "outputs": [
    {
     "name": "stdout",
     "output_type": "stream",
     "text": [
      "                          params  mean_test_score  rank_test_score\n",
      "0     {'C': 1, 'kernel': 'poly'}         0.893453                6\n",
      "1      {'C': 1, 'kernel': 'rbf'}         0.902058                3\n",
      "2  {'C': 1, 'kernel': 'sigmoid'}         0.818620                7\n",
      "3     {'C': 2, 'kernel': 'poly'}         0.895488                4\n",
      "4      {'C': 2, 'kernel': 'rbf'}         0.905063                2\n",
      "5  {'C': 2, 'kernel': 'sigmoid'}         0.818259                9\n",
      "6     {'C': 3, 'kernel': 'poly'}         0.895305                5\n",
      "7      {'C': 3, 'kernel': 'rbf'}         0.906201                1\n",
      "8  {'C': 3, 'kernel': 'sigmoid'}         0.818364                8\n",
      "Mejores parámetros: {'C': 3, 'kernel': 'rbf'}\n",
      "Tiempo transcurrido: 5.538920883337656 minutos\n"
     ]
    }
   ],
   "source": [
    "from sklearn.model_selection import GridSearchCV\n",
    "from sklearn.svm import SVC\n",
    "from sklearn.metrics import f1_score, accuracy_score, classification_report, make_scorer\n",
    "import time\n",
    "\n",
    "start_time = time.time()\n",
    "\n",
    "# Definimos el modelo SVC\n",
    "svm_model = SVC(gamma = \"scale\")\n",
    "\n",
    "# Definimos los hiperparámetros a probar\n",
    "param_grid = {\n",
    "    'kernel': ['poly', 'rbf', 'sigmoid'],\n",
    "    'C': list(range(1,4)),\n",
    "}\n",
    "\n",
    "# Scoring F1\n",
    "scorer = make_scorer(f1_score, average='weighted')\n",
    "\n",
    "# Configuramos el GridSearchCV\n",
    "grid_search = GridSearchCV(estimator=svm_model, param_grid=param_grid, scoring=scorer, cv=5)\n",
    "\n",
    "# Entrenamos el GridSearchCV\n",
    "grid_search.fit(X_train_red, y_train_red)\n",
    "\n",
    "results = pd.DataFrame(grid_search.cv_results_)\n",
    "\n",
    "# Extraemos las columnas que nos interesan: parámetros, mean_test_score y rank_test_score\n",
    "f1_scores = results[['params', 'mean_test_score', 'rank_test_score']]\n",
    "\n",
    "print(f1_scores)\n",
    "\n",
    "# Obtenemos los mejores parámetros y resultados\n",
    "best_params = grid_search.best_params_\n",
    "best_model = grid_search.best_estimator_\n",
    "print(\"Mejores parámetros:\", best_params)\n",
    "\n",
    "# Tiempo de ejecución\n",
    "end_time = time.time()\n",
    "elapsed_time = end_time - start_time\n",
    "print(f\"Tiempo transcurrido: {elapsed_time/60} minutos\")\n"
   ]
  },
  {
   "cell_type": "markdown",
   "id": "7af83147-12cd-43b9-9da3-48d128877de9",
   "metadata": {},
   "source": [
    "Una vez ya tenemos escogidos nuestros hiperparámetros, kernel = \"rbf\" y C = 3, vamos a entrenar con más datos nuestro modelo SVC. Este no lo entrenamos con el dataset entero porque el SVC es un modelo más costoso."
   ]
  },
  {
   "cell_type": "code",
   "execution_count": 32,
   "id": "bff370b8-1cac-431d-bde1-aeab7760c85a",
   "metadata": {},
   "outputs": [
    {
     "name": "stdout",
     "output_type": "stream",
     "text": [
      "Accuracy: 0.9164210161262355\n",
      "F1 Score: 0.9159476688298921\n",
      "              precision    recall  f1-score   support\n",
      "\n",
      "           0       0.94      0.95      0.94     12743\n",
      "           1       0.85      0.82      0.84      4558\n",
      "\n",
      "    accuracy                           0.92     17301\n",
      "   macro avg       0.90      0.89      0.89     17301\n",
      "weighted avg       0.92      0.92      0.92     17301\n",
      "\n",
      "Tiempo transcurrido: 1.9470203677813211 minutos\n"
     ]
    }
   ],
   "source": [
    "from sklearn.svm import SVC\n",
    "\n",
    "start_time = time.time()\n",
    "\n",
    "# Creamos el modelo SVM no lineal con kernel RBF\n",
    "svm_model = SVC(kernel='rbf', C = 3, gamma='scale')  # Kernel no lineal\n",
    "\n",
    "# Entrenamos el modelo\n",
    "svm_model.fit(X_train, y_train)\n",
    "\n",
    "# Predecimos\n",
    "y_pred = svm_model.predict(X_test)\n",
    "\n",
    "# Accuracy\n",
    "accuracy = accuracy_score(y_test, y_pred)\n",
    "print(f\"Accuracy: {accuracy}\")\n",
    "\n",
    "# F1-score\n",
    "f1 = f1_score(y_test, y_pred, average='weighted')\n",
    "print(f\"F1 Score: {f1}\")\n",
    "\n",
    "# Mostramos el classification report\n",
    "print(classification_report(y_test, y_pred))\n",
    "\n",
    "end_time = time.time()\n",
    "elapsed_time = end_time - start_time\n",
    "print(f\"Tiempo transcurrido: {elapsed_time/60} minutos\")"
   ]
  },
  {
   "cell_type": "markdown",
   "id": "5e7bc9f8-143b-422e-ab00-fc53f782f340",
   "metadata": {},
   "source": [
    "## Redes neuronales (usando capas fully connected y dropout)"
   ]
  },
  {
   "cell_type": "markdown",
   "id": "965ff811-a7e1-4825-b463-1d2a819927a1",
   "metadata": {},
   "source": [
    "Primero probamos con un el Perceptrón Multicapa de sklearn (más básico) formado por una capa con 100 neuronas."
   ]
  },
  {
   "cell_type": "code",
   "execution_count": 35,
   "id": "c6cd2de1-905b-4927-ac3a-9174aa4eb16b",
   "metadata": {},
   "outputs": [
    {
     "name": "stdout",
     "output_type": "stream",
     "text": [
      "Accuracy: 0.9316933321002497\n",
      "F1 Score: 0.9315359813348464\n",
      "              precision    recall  f1-score   support\n",
      "\n",
      "           0       0.95      0.96      0.95     39773\n",
      "           1       0.88      0.86      0.87     14292\n",
      "\n",
      "    accuracy                           0.93     54065\n",
      "   macro avg       0.91      0.91      0.91     54065\n",
      "weighted avg       0.93      0.93      0.93     54065\n",
      "\n",
      "Tiempo transcurrido: 6.759073980649313 minutos\n"
     ]
    }
   ],
   "source": [
    "from sklearn.neural_network import MLPClassifier\n",
    "\n",
    "start_time = time.time()\n",
    "\n",
    "# Creamos un clasificador MLP\n",
    "mlp = MLPClassifier(hidden_layer_sizes=(100), max_iter=4000, random_state=1)\n",
    "\n",
    "# Entrenamos el modelo\n",
    "mlp.fit(X_train_big, y_train_big)\n",
    "\n",
    "# Predecimos\n",
    "y_pred = mlp.predict(X_test_big)\n",
    "\n",
    "# Accuracy\n",
    "accuracy = accuracy_score(y_test_big, y_pred)\n",
    "print(f\"Accuracy: {accuracy}\")\n",
    "\n",
    "# F1-score\n",
    "f1 = f1_score(y_test_big, y_pred, average='weighted')\n",
    "print(f\"F1 Score: {f1}\")\n",
    "\n",
    "# Informe de clasificación\n",
    "print(classification_report(y_test_big, y_pred))\n",
    "\n",
    "end_time = time.time()\n",
    "elapsed_time = end_time - start_time\n",
    "print(f\"Tiempo transcurrido: {elapsed_time/60} minutos\")"
   ]
  },
  {
   "cell_type": "markdown",
   "id": "c2f05090-f9fc-49c8-8815-54ae7e602456",
   "metadata": {},
   "source": [
    "Vamos a probar con un modelo más complejo de Keras"
   ]
  },
  {
   "cell_type": "markdown",
   "id": "17f9d110-289b-464e-a636-0eace9cbd551",
   "metadata": {},
   "source": [
    "Dividimos en conjunto de train y validación"
   ]
  },
  {
   "cell_type": "code",
   "execution_count": 38,
   "id": "bfc879e2-19b9-4b9d-8278-7a08477478da",
   "metadata": {},
   "outputs": [],
   "source": [
    "from sklearn.model_selection import train_test_split\n",
    "\n",
    "# Hacemos una división del conjunto de test grande en 50% de conjunto de validación y 50% de conjunto de test\n",
    "X_val, X_test_big, y_val, y_test_big = train_test_split(X_test_big, y_test_big, train_size=0.5, random_state=40)"
   ]
  },
  {
   "cell_type": "code",
   "execution_count": 39,
   "id": "f8bd6d25-c67f-4fde-a295-729521f0de21",
   "metadata": {},
   "outputs": [
    {
     "name": "stdout",
     "output_type": "stream",
     "text": [
      "Epoch 1/20\n"
     ]
    },
    {
     "name": "stderr",
     "output_type": "stream",
     "text": [
      "C:\\Users\\Alonso\\anaconda3\\envs\\Python310\\Lib\\site-packages\\keras\\src\\layers\\core\\dense.py:87: UserWarning: Do not pass an `input_shape`/`input_dim` argument to a layer. When using Sequential models, prefer using an `Input(shape)` object as the first layer in the model instead.\n",
      "  super().__init__(activity_regularizer=activity_regularizer, **kwargs)\n"
     ]
    },
    {
     "name": "stdout",
     "output_type": "stream",
     "text": [
      "\u001b[1m6759/6759\u001b[0m \u001b[32m━━━━━━━━━━━━━━━━━━━━\u001b[0m\u001b[37m\u001b[0m \u001b[1m6s\u001b[0m 807us/step - f1_metric: 0.7722 - loss: 0.2702 - val_f1_metric: 0.8107 - val_loss: 0.2244\n",
      "Epoch 2/20\n",
      "\u001b[1m6759/6759\u001b[0m \u001b[32m━━━━━━━━━━━━━━━━━━━━\u001b[0m\u001b[37m\u001b[0m \u001b[1m5s\u001b[0m 769us/step - f1_metric: 0.8054 - loss: 0.2300 - val_f1_metric: 0.8139 - val_loss: 0.2169\n",
      "Epoch 3/20\n",
      "\u001b[1m6759/6759\u001b[0m \u001b[32m━━━━━━━━━━━━━━━━━━━━\u001b[0m\u001b[37m\u001b[0m \u001b[1m6s\u001b[0m 831us/step - f1_metric: 0.8148 - loss: 0.2241 - val_f1_metric: 0.8200 - val_loss: 0.2149\n",
      "Epoch 4/20\n",
      "\u001b[1m6759/6759\u001b[0m \u001b[32m━━━━━━━━━━━━━━━━━━━━\u001b[0m\u001b[37m\u001b[0m \u001b[1m5s\u001b[0m 790us/step - f1_metric: 0.8142 - loss: 0.2225 - val_f1_metric: 0.8241 - val_loss: 0.2119\n",
      "Epoch 5/20\n",
      "\u001b[1m6759/6759\u001b[0m \u001b[32m━━━━━━━━━━━━━━━━━━━━\u001b[0m\u001b[37m\u001b[0m \u001b[1m5s\u001b[0m 798us/step - f1_metric: 0.8172 - loss: 0.2176 - val_f1_metric: 0.8259 - val_loss: 0.2097\n",
      "Epoch 6/20\n",
      "\u001b[1m6759/6759\u001b[0m \u001b[32m━━━━━━━━━━━━━━━━━━━━\u001b[0m\u001b[37m\u001b[0m \u001b[1m5s\u001b[0m 800us/step - f1_metric: 0.8194 - loss: 0.2205 - val_f1_metric: 0.8265 - val_loss: 0.2129\n",
      "Epoch 7/20\n",
      "\u001b[1m6759/6759\u001b[0m \u001b[32m━━━━━━━━━━━━━━━━━━━━\u001b[0m\u001b[37m\u001b[0m \u001b[1m6s\u001b[0m 812us/step - f1_metric: 0.8214 - loss: 0.2176 - val_f1_metric: 0.8287 - val_loss: 0.2071\n",
      "Epoch 8/20\n",
      "\u001b[1m6759/6759\u001b[0m \u001b[32m━━━━━━━━━━━━━━━━━━━━\u001b[0m\u001b[37m\u001b[0m \u001b[1m5s\u001b[0m 793us/step - f1_metric: 0.8206 - loss: 0.2171 - val_f1_metric: 0.8261 - val_loss: 0.2060\n",
      "Epoch 9/20\n",
      "\u001b[1m6759/6759\u001b[0m \u001b[32m━━━━━━━━━━━━━━━━━━━━\u001b[0m\u001b[37m\u001b[0m \u001b[1m5s\u001b[0m 806us/step - f1_metric: 0.8227 - loss: 0.2167 - val_f1_metric: 0.8286 - val_loss: 0.2066\n",
      "Epoch 10/20\n",
      "\u001b[1m6759/6759\u001b[0m \u001b[32m━━━━━━━━━━━━━━━━━━━━\u001b[0m\u001b[37m\u001b[0m \u001b[1m6s\u001b[0m 841us/step - f1_metric: 0.8254 - loss: 0.2132 - val_f1_metric: 0.8334 - val_loss: 0.2042\n",
      "Epoch 11/20\n",
      "\u001b[1m6759/6759\u001b[0m \u001b[32m━━━━━━━━━━━━━━━━━━━━\u001b[0m\u001b[37m\u001b[0m \u001b[1m5s\u001b[0m 799us/step - f1_metric: 0.8232 - loss: 0.2148 - val_f1_metric: 0.8334 - val_loss: 0.2033\n",
      "Epoch 12/20\n",
      "\u001b[1m6759/6759\u001b[0m \u001b[32m━━━━━━━━━━━━━━━━━━━━\u001b[0m\u001b[37m\u001b[0m \u001b[1m7s\u001b[0m 1ms/step - f1_metric: 0.8234 - loss: 0.2130 - val_f1_metric: 0.8291 - val_loss: 0.2031\n",
      "Epoch 13/20\n",
      "\u001b[1m6759/6759\u001b[0m \u001b[32m━━━━━━━━━━━━━━━━━━━━\u001b[0m\u001b[37m\u001b[0m \u001b[1m6s\u001b[0m 848us/step - f1_metric: 0.8211 - loss: 0.2139 - val_f1_metric: 0.8329 - val_loss: 0.2020\n",
      "Epoch 14/20\n",
      "\u001b[1m6759/6759\u001b[0m \u001b[32m━━━━━━━━━━━━━━━━━━━━\u001b[0m\u001b[37m\u001b[0m \u001b[1m5s\u001b[0m 799us/step - f1_metric: 0.8266 - loss: 0.2117 - val_f1_metric: 0.8367 - val_loss: 0.2021\n",
      "Epoch 15/20\n",
      "\u001b[1m6759/6759\u001b[0m \u001b[32m━━━━━━━━━━━━━━━━━━━━\u001b[0m\u001b[37m\u001b[0m \u001b[1m5s\u001b[0m 786us/step - f1_metric: 0.8295 - loss: 0.2099 - val_f1_metric: 0.8385 - val_loss: 0.2001\n",
      "Epoch 16/20\n",
      "\u001b[1m6759/6759\u001b[0m \u001b[32m━━━━━━━━━━━━━━━━━━━━\u001b[0m\u001b[37m\u001b[0m \u001b[1m6s\u001b[0m 820us/step - f1_metric: 0.8266 - loss: 0.2095 - val_f1_metric: 0.8370 - val_loss: 0.1996\n",
      "Epoch 17/20\n",
      "\u001b[1m6759/6759\u001b[0m \u001b[32m━━━━━━━━━━━━━━━━━━━━\u001b[0m\u001b[37m\u001b[0m \u001b[1m5s\u001b[0m 800us/step - f1_metric: 0.8297 - loss: 0.2074 - val_f1_metric: 0.8374 - val_loss: 0.1995\n",
      "Epoch 18/20\n",
      "\u001b[1m6759/6759\u001b[0m \u001b[32m━━━━━━━━━━━━━━━━━━━━\u001b[0m\u001b[37m\u001b[0m \u001b[1m6s\u001b[0m 823us/step - f1_metric: 0.8286 - loss: 0.2087 - val_f1_metric: 0.8403 - val_loss: 0.1981\n",
      "Epoch 19/20\n",
      "\u001b[1m6759/6759\u001b[0m \u001b[32m━━━━━━━━━━━━━━━━━━━━\u001b[0m\u001b[37m\u001b[0m \u001b[1m5s\u001b[0m 771us/step - f1_metric: 0.8299 - loss: 0.2059 - val_f1_metric: 0.8375 - val_loss: 0.1976\n",
      "Epoch 20/20\n",
      "\u001b[1m6759/6759\u001b[0m \u001b[32m━━━━━━━━━━━━━━━━━━━━\u001b[0m\u001b[37m\u001b[0m \u001b[1m6s\u001b[0m 829us/step - f1_metric: 0.8283 - loss: 0.2068 - val_f1_metric: 0.8386 - val_loss: 0.1992\n",
      "Accuracy: 0.8384058475494385\n",
      "\u001b[1m845/845\u001b[0m \u001b[32m━━━━━━━━━━━━━━━━━━━━\u001b[0m\u001b[37m\u001b[0m \u001b[1m1s\u001b[0m 578us/step\n",
      "F1 Score: 0.8461964805320771\n"
     ]
    },
    {
     "data": {
      "image/png": "[encoded data removed]",
      "text/plain": [
       "<Figure size 640x480 with 1 Axes>"
      ]
     },
     "metadata": {},
     "output_type": "display_data"
    },
    {
     "data": {
      "image/png": "[encoded data removed]",
      "text/plain": [
       "<Figure size 640x480 with 1 Axes>"
      ]
     },
     "metadata": {},
     "output_type": "display_data"
    }
   ],
   "source": [
    "from keras.models import Sequential\n",
    "from keras.layers import Dense, Dropout\n",
    "import matplotlib.pyplot as plt\n",
    "from sklearn.metrics import f1_score\n",
    "from keras.regularizers import l2\n",
    "import tensorflow.keras.backend as K\n",
    "import numpy as np\n",
    "\n",
    "def f1_metric(y_true, y_pred):\n",
    "    y_true = K.cast(y_true, 'float32')\n",
    "    y_pred = K.round(y_pred)  # Convertimos las predicciones a 0 o 1\n",
    "    tp = K.sum(K.cast(y_true * y_pred, 'float32'), axis=0)\n",
    "    fp = K.sum(K.cast((1 - y_true) * y_pred, 'float32'), axis=0)\n",
    "    fn = K.sum(K.cast(y_true * (1 - y_pred), 'float32'), axis=0)\n",
    "    f1 = 2 * tp / (2 * tp + fp + fn + K.epsilon())\n",
    "    return f1\n",
    "\n",
    "# Definimos el modelo compuesto por varias capas secuenciales\n",
    "model = Sequential([\n",
    "    Dense(100, input_dim = X_train_big.shape[1], activation='relu'), # Capa densa con 100 neuronas\n",
    "    Dropout(0.5),\n",
    "    Dense(1, activation='sigmoid')  # Capa de salida \n",
    "])\n",
    "\n",
    "# Compilamos el modelo\n",
    "model.compile(loss='binary_crossentropy', optimizer='adam', metrics=[f1_metric])\n",
    "\n",
    "# Entrenamos el modelo\n",
    "history = model.fit(X_train_big, y_train_big, validation_data=(X_val, y_val), epochs=20, batch_size=32)\n",
    "\n",
    "loss, accuracy = model.evaluate(X_test_big, y_test_big, verbose=0)\n",
    "print(f'Accuracy: {accuracy}')\n",
    "\n",
    "# Obtenemos predicciones en el conjunto de prueba\n",
    "y_pred = (model.predict(X_test_big) > 0.5).astype(\"int32\")  # Convertir las probabilidades en 0 o 1\n",
    "\n",
    "# F1-score\n",
    "f1 = f1_score(y_test_big, y_pred)\n",
    "print(f'F1 Score: {f1}')\n",
    "\n",
    "# Visualizamos la historia de la precisión durante el entrenamiento\n",
    "plt.plot(history.history[\"f1_metric\"])\n",
    "plt.plot(history.history['val_f1_metric'])\n",
    "plt.title('Precisión del modelo')\n",
    "plt.ylabel('Precisión')\n",
    "plt.xlabel('Época')\n",
    "plt.legend(['Entrenamiento', 'Validación'], loc='lower right')\n",
    "plt.show()\n",
    "\n",
    "# Visualizamos la historia de la pérdida durante el entrenamiento\n",
    "plt.plot(history.history['loss'])\n",
    "plt.plot(history.history['val_loss'])\n",
    "plt.title('Pérdida del modelo')\n",
    "plt.ylabel('Pérdida')\n",
    "plt.xlabel('Época')\n",
    "plt.legend(['Entrenamiento', 'Validación'], loc='upper right')\n",
    "plt.show()"
   ]
  },
  {
   "cell_type": "markdown",
   "id": "f578ae50-2e4c-4e8b-be41-321dfc33756b",
   "metadata": {},
   "source": [
    "Si añadimos capas ocultas nos sale peor f1 score. Por lo que el MLPClassifier de sklearn precide mejor los resultados, incluso mejor que una red con capas densas y de dropout, siendo el segundo mejor modelo de todos."
   ]
  }
 ],
 "metadata": {
  "kernelspec": {
   "display_name": "Python 3 (ipykernel)",
   "language": "python",
   "name": "python3"
  },
  "language_info": {
   "codemirror_mode": {
    "name": "ipython",
    "version": 3
   },
   "file_extension": ".py",
   "mimetype": "text/x-python",
   "name": "python",
   "nbconvert_exporter": "python",
   "pygments_lexer": "ipython3",
   "version": "3.10.13"
  }
 },
 "nbformat": 4,
 "nbformat_minor": 5
}
